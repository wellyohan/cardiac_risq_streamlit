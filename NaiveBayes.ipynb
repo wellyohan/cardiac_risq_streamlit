{
 "cells": [
  {
   "cell_type": "markdown",
   "id": "54489d2b",
   "metadata": {},
   "source": [
    "SIMO FODJO WELL YOHAN NATHAN"
   ]
  },
  {
   "cell_type": "markdown",
   "id": "e61f36c6",
   "metadata": {},
   "source": [
    "NAIVE BAYES"
   ]
  },
  {
   "cell_type": "markdown",
   "id": "fe71ff5e",
   "metadata": {},
   "source": [
    "1. Importation des bibliothèques et chargement des données"
   ]
  },
  {
   "cell_type": "code",
   "execution_count": null,
   "id": "35698084",
   "metadata": {},
   "outputs": [],
   "source": [
    "import pandas as pd\n",
    "import numpy as np\n",
    "from sklearn.model_selection import train_test_split, GridSearchCV, cross_val_score, learning_curve, validation_curve\n",
    "from sklearn.pipeline import make_pipeline\n",
    "from sklearn.preprocessing import StandardScaler\n",
    "from sklearn.naive_bayes import GaussianNB\n",
    "from sklearn.metrics import accuracy_score, classification_report, confusion_matrix, roc_curve, auc\n",
    "import joblib\n",
    "import matplotlib.pyplot as plt\n",
    "import seaborn as sns"
   ]
  },
  {
   "cell_type": "markdown",
   "id": "072297b7",
   "metadata": {},
   "source": [
    "Vue que nous avons déjà nettoyé les données dans DecisionTree.ipynb nous allons juste importer le dataset déjà nettoyé"
   ]
  },
  {
   "cell_type": "code",
   "execution_count": null,
   "id": "d868fc7e",
   "metadata": {},
   "outputs": [],
   "source": [
    "# Chargement des données\n",
    "data = pd.read_csv('./csv/cleaned_dataset.csv')"
   ]
  },
  {
   "cell_type": "code",
   "execution_count": null,
   "id": "27e08d0c",
   "metadata": {},
   "outputs": [],
   "source": [
    "data.fillna(data.mean(), inplace=True)"
   ]
  },
  {
   "cell_type": "markdown",
   "id": "020f0d9f",
   "metadata": {},
   "source": [
    "2. Exploration des données"
   ]
  },
  {
   "cell_type": "code",
   "execution_count": null,
   "id": "e171ea20",
   "metadata": {},
   "outputs": [],
   "source": [
    "# Séparation des features et de la cible\n",
    "X = data.drop('target', axis=1)\n",
    "y = data['target']"
   ]
  },
  {
   "cell_type": "code",
   "execution_count": null,
   "id": "c8ab498c",
   "metadata": {},
   "outputs": [],
   "source": [
    "# Division en ensembles d'entraînement et de test\n",
    "X_train, X_test, y_train, y_test = train_test_split(X, y, test_size=0.2, random_state=42, stratify=y)"
   ]
  },
  {
   "cell_type": "markdown",
   "id": "a2520a9b",
   "metadata": {},
   "source": [
    "2. Modélisation avec Naive Bayes"
   ]
  },
  {
   "cell_type": "code",
   "execution_count": null,
   "id": "7f838ef5",
   "metadata": {},
   "outputs": [],
   "source": [
    "# Création et entraînement du modèle\n",
    "model = GaussianNB()\n",
    "model.fit(X_train, y_train)"
   ]
  },
  {
   "cell_type": "code",
   "execution_count": null,
   "id": "b09cd5a1",
   "metadata": {},
   "outputs": [],
   "source": [
    "train_score = model.score(X_train, y_train)\n",
    "test_score = model.score(X_test, y_test)\n",
    "print(f\"Score d'entrainnement: {train_score}\\nScore de teste :{test_score}\")"
   ]
  },
  {
   "cell_type": "code",
   "execution_count": null,
   "id": "fa977205",
   "metadata": {},
   "outputs": [],
   "source": [
    "pipeline = make_pipeline(StandardScaler(), GaussianNB())"
   ]
  },
  {
   "cell_type": "code",
   "execution_count": null,
   "id": "0ee0f7ae",
   "metadata": {},
   "outputs": [],
   "source": [
    "# Entraînement du modèle\n",
    "pipeline.fit(X_train, y_train)"
   ]
  },
  {
   "cell_type": "code",
   "execution_count": null,
   "id": "bea74e0f",
   "metadata": {},
   "outputs": [],
   "source": [
    "\n",
    "# Évaluation sur l'ensemble de test\n",
    "y_pred = pipeline.predict(X_test)\n",
    "y_prob = pipeline.predict_proba(X_test)[:, 1]"
   ]
  },
  {
   "cell_type": "code",
   "execution_count": null,
   "id": "32e925f7",
   "metadata": {},
   "outputs": [],
   "source": [
    "# Scores\n",
    "train_score = pipeline.score(X_train, y_train)\n",
    "test_score = pipeline.score(X_test, y_test)\n",
    "\n",
    "print(f\"Score sur l'ensemble d'entraînement: {train_score:.2f}\")\n",
    "print(f\"Score sur l'ensemble de test: {test_score:.2f}\")\n",
    "print(\"\\nRapport de classification:\\n\", classification_report(y_test, y_pred))"
   ]
  },
  {
   "cell_type": "markdown",
   "id": "e5d0dac3",
   "metadata": {},
   "source": [
    "3. Validation croisée"
   ]
  },
  {
   "cell_type": "code",
   "execution_count": null,
   "id": "559ba81b",
   "metadata": {},
   "outputs": [],
   "source": [
    "# Validation croisée\n",
    "cv_scores = cross_val_score(pipeline, X_train, y_train, cv=10)\n",
    "print(f\"Scores de validation croisée: {cv_scores}\")\n",
    "print(f\"Moyenne des scores de validation croisée: {cv_scores.mean():.2f} ± {cv_scores.std():.2f}\")"
   ]
  },
  {
   "cell_type": "markdown",
   "id": "b1b7f071",
   "metadata": {},
   "source": [
    "4. Courbe de validation"
   ]
  },
  {
   "cell_type": "code",
   "execution_count": null,
   "id": "e1aa2a5f",
   "metadata": {},
   "outputs": [],
   "source": [
    "# Courbe de validation pour DecisionTreeClassifier\n",
    "param_range = range(1, 21)\n",
    "train_scores, test_scores = validation_curve(\n",
    "    GaussianNB(), X_train, y_train, \n",
    "    param_name=\"var_smoothing\", param_range=param_range,\n",
    "    cv=5, scoring=\"accuracy\", n_jobs=-1\n",
    ")"
   ]
  },
  {
   "cell_type": "code",
   "execution_count": null,
   "id": "675691d4",
   "metadata": {},
   "outputs": [],
   "source": [
    "# Calcul des moyennes et écarts-types\n",
    "train_mean = np.mean(train_scores, axis=1)\n",
    "train_std = np.std(train_scores, axis=1)\n",
    "test_mean = np.mean(test_scores, axis=1)\n",
    "test_std = np.std(test_scores, axis=1)"
   ]
  },
  {
   "cell_type": "code",
   "execution_count": null,
   "id": "6b4c571f",
   "metadata": {},
   "outputs": [],
   "source": [
    "# Visualisation\n",
    "plt.figure(figsize=(10, 6))\n",
    "plt.plot(param_range, train_mean, label=\"Score d'entraînement\", color=\"darkorange\")\n",
    "plt.fill_between(param_range, train_mean - train_std, train_mean + train_std, alpha=0.2, color=\"darkorange\")\n",
    "plt.plot(param_range, test_mean, label=\"Score de validation croisée\", color=\"navy\")\n",
    "plt.fill_between(param_range, test_mean - test_std, test_mean + test_std, alpha=0.2, color=\"navy\")\n",
    "plt.title(\"Courbe de validation pour DecisionTreeClassifier\")\n",
    "plt.xlabel(\"max_depth\")\n",
    "plt.ylabel(\"Score\")\n",
    "plt.legend(loc=\"best\")\n",
    "plt.grid()\n",
    "plt.show()"
   ]
  },
  {
   "cell_type": "markdown",
   "id": "2de57384",
   "metadata": {},
   "source": [
    "5. Optimisation avec GridSearchCV"
   ]
  },
  {
   "cell_type": "code",
   "execution_count": null,
   "id": "6818996e",
   "metadata": {},
   "outputs": [],
   "source": [
    "param_grid = {\n",
    "    'gaussiannb__var_smoothing' : [1e-9, 1e-6]\n",
    "}\n",
    "grid_search = GridSearchCV(pipeline, param_grid, cv=5, scoring='accuracy', n_jobs=-1)\n",
    "grid_search.fit(X_train, y_train)\n",
    "\n",
    "print(f\"Meilleurs paramètres: {grid_search.best_params_}\")\n",
    "print(f\"Meilleur score: {grid_search.best_score_:.2f}\")"
   ]
  },
  {
   "cell_type": "code",
   "execution_count": null,
   "id": "eb7987ca",
   "metadata": {},
   "outputs": [],
   "source": [
    "# Evaluation sur le test set\n",
    "y_pred = grid_search.predict(X_test)\n",
    "print(f\"\\nAccuracy sur le test set: {accuracy_score(y_test, y_pred):.3f}\")\n",
    "print(\"\\nClassification Report:\")\n",
    "print(classification_report(y_test, y_pred))"
   ]
  },
  {
   "cell_type": "markdown",
   "id": "71c43383",
   "metadata": {},
   "source": [
    "6. Matrice de confusion"
   ]
  },
  {
   "cell_type": "code",
   "execution_count": null,
   "id": "621ad98f",
   "metadata": {},
   "outputs": [],
   "source": [
    "# Matrice de confusion\n",
    "cm = confusion_matrix(y_test, y_pred)\n",
    "plt.figure(figsize=(8, 6))\n",
    "sns.heatmap(cm, annot=True, fmt='d', cmap='Oranges', \n",
    "            xticklabels=['Sain', 'Malade'], \n",
    "            yticklabels=['Sain', 'Malade'])\n",
    "plt.title('Matrice de confusion')\n",
    "plt.ylabel('Vérité terrain')\n",
    "plt.xlabel('Prédiction')\n",
    "plt.show()"
   ]
  },
  {
   "cell_type": "markdown",
   "id": "8a0d4a0a",
   "metadata": {},
   "source": [
    "7. Courbe ROC"
   ]
  },
  {
   "cell_type": "code",
   "execution_count": null,
   "id": "2918180d",
   "metadata": {},
   "outputs": [],
   "source": [
    "# Courbe ROC\n",
    "fpr, tpr, thresholds = roc_curve(y_test, y_prob)\n",
    "roc_auc = auc(fpr, tpr)\n",
    "\n",
    "plt.figure(figsize=(8, 6))\n",
    "plt.plot(fpr, tpr, color='darkorange', lw=2, label=f'Courbe ROC (AUC = {roc_auc:.2f})')\n",
    "plt.plot([0, 1], [0, 1], color='navy', lw=2, linestyle='--')\n",
    "plt.xlim([0.0, 1.0])\n",
    "plt.ylim([0.0, 1.05])\n",
    "plt.xlabel('Taux de faux positifs')\n",
    "plt.ylabel('Taux de vrais positifs')\n",
    "plt.title('Courbe ROC')\n",
    "plt.legend(loc=\"lower right\")\n",
    "plt.show()"
   ]
  },
  {
   "cell_type": "markdown",
   "id": "36321a0a",
   "metadata": {},
   "source": [
    "8. Courbe d'apprentissage"
   ]
  },
  {
   "cell_type": "code",
   "execution_count": null,
   "id": "ab59d1cf",
   "metadata": {},
   "outputs": [],
   "source": [
    "# Courbe d'apprentissage\n",
    "train_sizes, train_scores, test_scores = learning_curve(\n",
    "    pipeline, X_train, y_train, cv=5, n_jobs=-1, \n",
    "    train_sizes=np.linspace(0.1, 1.0, 10), scoring='accuracy')\n",
    "\n",
    "train_mean = np.mean(train_scores, axis=1)\n",
    "train_std = np.std(train_scores, axis=1)\n",
    "test_mean = np.mean(test_scores, axis=1)\n",
    "test_std = np.std(test_scores, axis=1)\n",
    "\n",
    "plt.figure(figsize=(10, 6))\n",
    "plt.plot(train_sizes, train_mean, 'o-', color=\"r\", label=\"Score d'entraînement\")\n",
    "plt.plot(train_sizes, test_mean, 'o-', color=\"g\", label=\"Score de validation\")\n",
    "plt.fill_between(train_sizes, train_mean - train_std, train_mean + train_std, alpha=0.1, color=\"r\")\n",
    "plt.fill_between(train_sizes, test_mean - test_std, test_mean + test_std, alpha=0.1, color=\"g\")\n",
    "plt.xlabel(\"Taille de l'ensemble d'entraînement\")\n",
    "plt.ylabel(\"Score\")\n",
    "plt.title(\"Courbe d'apprentissage\")\n",
    "plt.legend(loc=\"best\")\n",
    "plt.grid()\n",
    "plt.show()"
   ]
  },
  {
   "cell_type": "markdown",
   "id": "82ba6199",
   "metadata": {},
   "source": [
    "10. Sauvegarde du modele avec joblib"
   ]
  },
  {
   "cell_type": "code",
   "execution_count": null,
   "id": "52e31d62",
   "metadata": {},
   "outputs": [],
   "source": [
    "# Sauvegarde du meilleur modèle\n",
    "best_model = grid_search.best_estimator_\n",
    "joblib.dump(best_model, './params/joblib/heart_model_pipeline_naive_bayes.joblib')\n",
    "print(\"Modèle sauvegardé sous 'heart_model_pipeline_naive_bayes.joblib'\")"
   ]
  },
  {
   "cell_type": "code",
   "execution_count": null,
   "id": "39fe8bc2",
   "metadata": {},
   "outputs": [],
   "source": [
    "# Sauvegarde des noms de colonnes pour Streamlit\n",
    "feature_names = list(X.columns)\n",
    "joblib.dump(feature_names, './params/joblib/feature_names_naive_bayes.joblib')"
   ]
  }
 ],
 "metadata": {
  "kernelspec": {
   "display_name": "Python 3",
   "language": "python",
   "name": "python3"
  },
  "language_info": {
   "codemirror_mode": {
    "name": "ipython",
    "version": 3
   },
   "file_extension": ".py",
   "mimetype": "text/x-python",
   "name": "python",
   "nbconvert_exporter": "python",
   "pygments_lexer": "ipython3",
   "version": "3.10.11"
  }
 },
 "nbformat": 4,
 "nbformat_minor": 5
}
